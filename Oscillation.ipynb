{
 "cells": [
  {
   "cell_type": "markdown",
   "metadata": {},
   "source": [
    "# OSCILLATION\n",
    "***\n",
    "## 1. Simple Harmonic Oscillation\n"
   ]
  },
  {
   "cell_type": "markdown",
   "metadata": {},
   "source": [
    "![alt A simple pendulum](https://user-images.githubusercontent.com/62984222/78111446-a0eaff00-7437-11ea-91e6-22a9118d9475.png)\n",
    "\n",
    "진자의 운동 방정식은 다음과 같다.  \n",
    "### $\\tau = I\\alpha = -mgL\\sin\\theta$  \n",
    "### $\\ddot\\theta = -{g\\over L}\\sin\\theta$  \n",
    "각도 $\\theta $가 작을 경우 $\\sin\\theta \\approx \\theta $가 되어 단진자 운동을 하게 된다.  \n",
    "### ${d^2\\theta \\over dt^2} = -{g\\over L}\\theta$  "
   ]
  },
  {
   "cell_type": "code",
   "execution_count": null,
   "metadata": {},
   "outputs": [],
   "source": [
    "%matplotlib inline\n",
    "import numpy as np\n",
    "import matplotlib.pyplot as plt\n",
    "import matplotlib.animation as animation\n",
    "\n",
    "TWOPI = 2*np.pi\n",
    "\n",
    "fig, ax = plt.subplots()\n",
    "\n",
    "t = np.arange(0.0, TWOPI, 0.001)\n",
    "s = np.sin(t)\n",
    "l = plt.plot(t, s)\n",
    "\n",
    "ax = plt.axis([0,TWOPI,-1,1])\n",
    "\n",
    "redDot, = plt.plot([0], [np.sin(0)], 'ro')\n",
    "\n",
    "def animate(i):\n",
    "    redDot.set_data(i, np.sin(i))\n",
    "    return redDot,\n",
    "\n",
    "# create animation using the animate() function\n",
    "myAnimation = animation.FuncAnimation(fig, animate, frames=np.arange(0.0, TWOPI, 0.1), \\\n",
    "                                      interval=10, blit=True, repeat=True)\n",
    "\n",
    "plt.show()"
   ]
  },
  {
   "cell_type": "markdown",
   "metadata": {},
   "source": [
    "실제 진자의 운동에는 마찰력이나 공기저항과 같은 damping 요소 외력 요소를 고려할 수 있다.  \n",
    "### $\\ddot\\theta = -{g\\over L}\\sin\\theta - \\beta\\dot\\theta + A\\sin(\\omega_d t)$"
   ]
  },
  {
   "cell_type": "code",
   "execution_count": 3,
   "metadata": {},
   "outputs": [
    {
     "data": {
      "application/vnd.jupyter.widget-view+json": {
       "model_id": "5a39c75a79164a80b14b388654717705",
       "version_major": 2,
       "version_minor": 0
      },
      "text/plain": [
       "interactive(children=(FloatSlider(value=0.0, description='v', max=10.0, step=0.05), FloatSlider(value=0.523598…"
      ]
     },
     "metadata": {},
     "output_type": "display_data"
    }
   ],
   "source": [
    "from ipywidgets import interact, interactive, fixed, interact_manual\n",
    "import ipywidgets as widgets\n",
    "import matplotlib.pyplot as plt\n",
    "import numpy as np\n",
    "from scipy.integrate import odeint\n",
    "\n",
    "steps = 100\n",
    "N = 300\n",
    "skip = 100\n",
    "\n",
    "v_widget = widgets.FloatSlider(min=0.0, max=10.0, step=0.05, value=0.0)\n",
    "theta_widget = widgets.FloatSlider(min=0.0, max=np.pi, step=0.05, value=np.pi/6.0)\n",
    "beta_widget = widgets.FloatSlider(min=0.0, max=1, step=0.05, value=0.5)\n",
    "amp_widget = widgets.FloatSlider(min=0.0, max=5, step=0.05, value=1.2)\n",
    "omegad_widget = widgets.FloatSlider(min=0.1, max=1, step=0.001, value=0.724)\n",
    "\n",
    "def Solver_ODE(v, theta, beta, amp, omega_d):\n",
    "    initial_state = np.array([theta,v])\n",
    "    time_step = 2.0 * np.pi/(omega_d*steps)\n",
    "    time = np.arange(0.0,N*(2.0*np.pi)/omega_d,time_step)\n",
    "    answer = odeint(DE_pendulum, initial_state, time,args=(beta,amp,omega_d))\n",
    "    \n",
    "    plt.figure(figsize=(10, 20))\n",
    "    \n",
    "    plt.subplot(2, 1, 1) \n",
    "    plt.plot(time[:1000]*omega_d/(2.0*np.pi),answer[:1000,1],'r')\n",
    "    plt.title('Real pendulum motion')\n",
    "    plt.xlabel('Time(s)')\n",
    "    plt.ylabel('Anglular velocity')\n",
    "    \n",
    "    \n",
    "    answer = answer[skip*steps:]\n",
    "    for i, position in enumerate(answer[:,0]):\n",
    "        while position > np.pi:\n",
    "            position = position - (2.0*np.pi)\n",
    "        while position < -np.pi:\n",
    "            position = position + (2.0*np.pi)\n",
    "        answer[i,0] = position\n",
    "\n",
    "    offset = 50\n",
    "    max_index = (N-skip)*steps - offset\n",
    "\n",
    "    P_thetas = []\n",
    "    P_omegas = []\n",
    "\n",
    "    for j in range(offset, max_index, steps):\n",
    "        P_thetas.append(answer[j,0])\n",
    "        P_omegas.append(answer[j,1])\n",
    "    \n",
    "    plt.subplot(2, 1, 2)\n",
    "    plt.plot(answer[:,0],answer[:,1],'c.')\n",
    "    plt.plot(P_thetas, P_omegas,'b.')\n",
    "    plt.title('Phase-Space Diagram')\n",
    "    plt.xlabel('Angle')\n",
    "    plt.ylabel('Anglular velocity')\n",
    "    plt.legend(['Phase-Space', 'Poincare section'])\n",
    "    plt.xlim(-np.pi,np.pi)    \n",
    "    plt.show()\n",
    "    \n",
    "def DE_pendulum(y,time,beta,amp,omega_d):\n",
    "    g0 = y[1]\n",
    "    g1 = -np.sin(y[0])-beta*y[1]+amp*np.sin(omega_d*time)\n",
    "    return np.array([g0,g1])\n",
    "    \n",
    "interact(Solver_ODE,v=v_widget, theta=theta_widget, beta=beta_widget, amp=amp_widget, omega_d=omegad_widget);\n"
   ]
  }
 ],
 "metadata": {
  "file_extension": ".py",
  "kernelspec": {
   "display_name": "Python 3",
   "language": "python",
   "name": "python3"
  },
  "language_info": {
   "codemirror_mode": {
    "name": "ipython",
    "version": 3
   },
   "file_extension": ".py",
   "mimetype": "text/x-python",
   "name": "python",
   "nbconvert_exporter": "python",
   "pygments_lexer": "ipython3",
   "version": "3.7.6"
  },
  "mimetype": "text/x-python",
  "name": "python",
  "npconvert_exporter": "python",
  "pygments_lexer": "ipython3",
  "version": 3
 },
 "nbformat": 4,
 "nbformat_minor": 2
}
